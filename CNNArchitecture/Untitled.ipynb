{
 "cells": [
  {
   "cell_type": "code",
   "execution_count": 14,
   "metadata": {},
   "outputs": [
    {
     "name": "stdout",
     "output_type": "stream",
     "text": [
      "Lenet(\n",
      "  (relu): ReLU()\n",
      "  (conv_layer1): Conv2d(1, 6, kernel_size=(5, 5), stride=(1, 1))\n",
      "  (avg_pool): AvgPool2d(kernel_size=2, stride=2, padding=0)\n",
      "  (conv_layer2): Conv2d(6, 16, kernel_size=(5, 5), stride=(1, 1))\n",
      "  (conv_layer3): Conv2d(16, 120, kernel_size=(5, 5), stride=(1, 1))\n",
      "  (Fc1): Linear(in_features=120, out_features=84, bias=True)\n",
      "  (Fc2): Linear(in_features=84, out_features=10, bias=True)\n",
      ")\n",
      "torch.Size([1, 10])\n"
     ]
    }
   ],
   "source": [
    "import torch\n",
    "import torch.nn as nn\n",
    "import torch.optim as optim\n",
    "import torch.functional as F\n",
    "\n",
    "\n",
    "class Lenet(nn.Module):\n",
    "    def __init__(self,in_c,layers):\n",
    "        super().__init__()\n",
    "        \n",
    "        self.relu = nn.ReLU()\n",
    "\n",
    "        self.conv_layer1 = nn.Conv2d(in_c,layers[0],kernel_size =5,stride = 1, padding = 0)\n",
    "        self.avg_pool = nn.AvgPool2d(kernel_size=2,stride=2)\n",
    "        self.conv_layer2 = nn.Conv2d(layers[1],layers[2],kernel_size = 5,stride = 1, padding = 0)\n",
    "        self.conv_layer3 = nn.Conv2d(layers[2],layers[3],kernel_size = 5,stride = 1, padding = 0)\n",
    "        self.Fc1 = nn.Linear(120,84) \n",
    "        self.Fc2 = nn.Linear(84,10) \n",
    "     \n",
    "    def forward(self, x):\n",
    "         x = self.conv_layer1(x)\n",
    "         x = self.relu(x)\n",
    "         x = self.avg_pool(x)\n",
    "         x = self.conv_layer2(x)\n",
    "         x = self.relu(x)\n",
    "         x = self.avg_pool(x)\n",
    "         x = self.conv_layer3(x)  \n",
    "         x = self.relu(x)\n",
    "         x = x.reshape(x.shape[0],-1)  \n",
    "         x = self.Fc1(x)\n",
    "         x = self.relu(x)\n",
    "         x = self.Fc2(x)\n",
    "         return x\n",
    "\n",
    "if __name__ == '__main__':\n",
    "    layers = [6,6,16,120]\n",
    "    model = Lenet(1,layers)\n",
    "    print(model)\n",
    "    x = torch.randn(1,1,32,32)\n",
    "    print(model(x).shape)\n",
    "\n",
    "    \n",
    "\n",
    "\n",
    "\n",
    "\n"
   ]
  },
  {
   "cell_type": "code",
   "execution_count": null,
   "metadata": {},
   "outputs": [],
   "source": []
  }
 ],
 "metadata": {
  "kernelspec": {
   "display_name": "Python 3",
   "language": "python",
   "name": "python3"
  },
  "language_info": {
   "codemirror_mode": {
    "name": "ipython",
    "version": 3
   },
   "file_extension": ".py",
   "mimetype": "text/x-python",
   "name": "python",
   "nbconvert_exporter": "python",
   "pygments_lexer": "ipython3",
   "version": "3.6.3"
  }
 },
 "nbformat": 4,
 "nbformat_minor": 4
}
